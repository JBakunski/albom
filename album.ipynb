{
 "cells": [
  {
   "cell_type": "code",
   "execution_count": 81,
   "id": "93196cb5-abb8-4b9c-9c73-cf54460403ab",
   "metadata": {},
   "outputs": [],
   "source": [
    "import pandas as pd"
   ]
  },
  {
   "cell_type": "code",
   "execution_count": 82,
   "id": "02b521e7-aab7-493c-ac37-912a1071c839",
   "metadata": {},
   "outputs": [],
   "source": [
    "data = pd.read_html('https://www.officialcharts.com/chart-news/the-best-selling-albums-of-all-time-on-the-official-uk-chart__15551/', header=0)"
   ]
  },
  {
   "cell_type": "code",
   "execution_count": 83,
   "id": "cefcc757-9877-40c8-913d-d4e4f07a4618",
   "metadata": {},
   "outputs": [],
   "source": [
    "df = data[0]"
   ]
  },
  {
   "cell_type": "code",
   "execution_count": 84,
   "id": "1ca2926c-c739-4047-961d-854b448515f6",
   "metadata": {},
   "outputs": [
    {
     "data": {
      "text/html": [
       "<div>\n",
       "<style scoped>\n",
       "    .dataframe tbody tr th:only-of-type {\n",
       "        vertical-align: middle;\n",
       "    }\n",
       "\n",
       "    .dataframe tbody tr th {\n",
       "        vertical-align: top;\n",
       "    }\n",
       "\n",
       "    .dataframe thead th {\n",
       "        text-align: right;\n",
       "    }\n",
       "</style>\n",
       "<table border=\"1\" class=\"dataframe\">\n",
       "  <thead>\n",
       "    <tr style=\"text-align: right;\">\n",
       "      <th></th>\n",
       "      <th>POS</th>\n",
       "      <th>TITLE</th>\n",
       "      <th>ARTIST</th>\n",
       "      <th>YEAR</th>\n",
       "      <th>HIGH POSN</th>\n",
       "    </tr>\n",
       "  </thead>\n",
       "  <tbody>\n",
       "    <tr>\n",
       "      <th>0</th>\n",
       "      <td>1</td>\n",
       "      <td>GREATEST HITS</td>\n",
       "      <td>QUEEN</td>\n",
       "      <td>1981</td>\n",
       "      <td>1</td>\n",
       "    </tr>\n",
       "    <tr>\n",
       "      <th>1</th>\n",
       "      <td>2</td>\n",
       "      <td>GOLD - GREATEST HITS</td>\n",
       "      <td>ABBA</td>\n",
       "      <td>1992</td>\n",
       "      <td>1</td>\n",
       "    </tr>\n",
       "    <tr>\n",
       "      <th>2</th>\n",
       "      <td>3</td>\n",
       "      <td>SGT PEPPER'S LONELY HEARTS CLUB BAND</td>\n",
       "      <td>BEATLES</td>\n",
       "      <td>1967</td>\n",
       "      <td>1</td>\n",
       "    </tr>\n",
       "    <tr>\n",
       "      <th>3</th>\n",
       "      <td>4</td>\n",
       "      <td>21</td>\n",
       "      <td>ADELE</td>\n",
       "      <td>2011</td>\n",
       "      <td>1</td>\n",
       "    </tr>\n",
       "    <tr>\n",
       "      <th>4</th>\n",
       "      <td>5</td>\n",
       "      <td>WHAT'S THE STORY MORNING GLORY</td>\n",
       "      <td>OASIS</td>\n",
       "      <td>1995</td>\n",
       "      <td>1</td>\n",
       "    </tr>\n",
       "  </tbody>\n",
       "</table>\n",
       "</div>"
      ],
      "text/plain": [
       "   POS                                 TITLE   ARTIST  YEAR  HIGH POSN\n",
       "0    1                         GREATEST HITS    QUEEN  1981          1\n",
       "1    2                  GOLD - GREATEST HITS     ABBA  1992          1\n",
       "2    3  SGT PEPPER'S LONELY HEARTS CLUB BAND  BEATLES  1967          1\n",
       "3    4                                    21    ADELE  2011          1\n",
       "4    5        WHAT'S THE STORY MORNING GLORY    OASIS  1995          1"
      ]
     },
     "execution_count": 84,
     "metadata": {},
     "output_type": "execute_result"
    }
   ],
   "source": [
    "df.head()"
   ]
  },
  {
   "cell_type": "markdown",
   "id": "4951d740-63ae-40dc-8bc2-39ad2a69fe14",
   "metadata": {},
   "source": [
    "### Change columns name"
   ]
  },
  {
   "cell_type": "code",
   "execution_count": 85,
   "id": "06052088-2714-4f4c-8067-9ea3a62ffa9d",
   "metadata": {},
   "outputs": [],
   "source": [
    "df.rename(columns={'POS': 'POZ', 'TITLE': 'TYTUŁ', 'ARTIST': 'ARTYSTA', 'YEAR': 'ROK', 'HIGH POSN': 'MAX POZ'}, inplace=True)"
   ]
  },
  {
   "cell_type": "markdown",
   "id": "7e116585-962e-4cd6-955f-6d25d93f62ad",
   "metadata": {},
   "source": [
    "### Number of artists in the album"
   ]
  },
  {
   "cell_type": "code",
   "execution_count": 86,
   "id": "216b8806-05d7-4533-bdce-bda30303b45f",
   "metadata": {},
   "outputs": [
    {
     "data": {
      "text/plain": [
       "47"
      ]
     },
     "execution_count": 86,
     "metadata": {},
     "output_type": "execute_result"
    }
   ],
   "source": [
    "df['ARTYSTA'].nunique()"
   ]
  },
  {
   "cell_type": "markdown",
   "id": "9cb57068-0bb3-43b8-a000-2da7f46cbd72",
   "metadata": {},
   "source": [
    "### Which artists are most often on the list - Top 5"
   ]
  },
  {
   "cell_type": "code",
   "execution_count": 88,
   "id": "3372bb37-bf09-4742-872a-66af2733433d",
   "metadata": {},
   "outputs": [
    {
     "data": {
      "text/plain": [
       "COLDPLAY         3\n",
       "TAKE THAT        3\n",
       "FLEETWOOD MAC    2\n",
       "ABBA             2\n",
       "DIDO             2\n",
       "Name: ARTYSTA, dtype: int64"
      ]
     },
     "execution_count": 88,
     "metadata": {},
     "output_type": "execute_result"
    }
   ],
   "source": [
    "df['ARTYSTA'].value_counts().head(5)"
   ]
  },
  {
   "cell_type": "code",
   "execution_count": null,
   "id": "e5617c94-42f9-4963-9765-43598eba9e2a",
   "metadata": {},
   "outputs": [],
   "source": []
  }
 ],
 "metadata": {
  "kernelspec": {
   "display_name": "Python 3 (ipykernel)",
   "language": "python",
   "name": "python3"
  },
  "language_info": {
   "codemirror_mode": {
    "name": "ipython",
    "version": 3
   },
   "file_extension": ".py",
   "mimetype": "text/x-python",
   "name": "python",
   "nbconvert_exporter": "python",
   "pygments_lexer": "ipython3",
   "version": "3.9.7"
  }
 },
 "nbformat": 4,
 "nbformat_minor": 5
}
